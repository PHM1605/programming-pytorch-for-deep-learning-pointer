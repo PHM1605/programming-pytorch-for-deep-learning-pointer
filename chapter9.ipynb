{
 "cells": [
  {
   "cell_type": "markdown",
   "id": "3fd9c9c7-def3-4ba7-9159-d5fe77cdc0d3",
   "metadata": {},
   "source": [
    "# Pytorch in the wild"
   ]
  },
  {
   "cell_type": "markdown",
   "id": "44776a5f-bc2e-4957-9305-b34b74272f70",
   "metadata": {},
   "source": [
    "## Data augmentation"
   ]
  },
  {
   "cell_type": "markdown",
   "id": "6b32be86-4cb4-4c5b-ae52-55eeaaef2500",
   "metadata": {},
   "source": [
    "### Mixup"
   ]
  },
  {
   "cell_type": "raw",
   "id": "89856391-423f-4ef4-b605-6c45b7c63e5f",
   "metadata": {},
   "source": [
    "Visualization"
   ]
  },
  {
   "cell_type": "code",
   "execution_count": 47,
   "id": "f0fafb5f-7197-4240-a283-dbdecd16ac64",
   "metadata": {},
   "outputs": [],
   "source": [
    "import torch \n",
    "import torchvision \n",
    "import torch.nn as nn \n",
    "import torch.optim as optim\n",
    "from torch.utils.data import DataLoader\n",
    "import torchvision.transforms as transforms \n",
    "import matplotlib.pyplot as plt\n",
    "import numpy as np"
   ]
  },
  {
   "cell_type": "code",
   "execution_count": 41,
   "id": "a38b9b01-bdd9-46fc-8ddb-8567bf1d19f2",
   "metadata": {},
   "outputs": [
    {
     "name": "stdout",
     "output_type": "stream",
     "text": [
      "Files already downloaded and verified\n"
     ]
    }
   ],
   "source": [
    "transform = transforms.Compose([\n",
    "    transforms.ToTensor()\n",
    "])\n",
    "dataset = torchvision.datasets.CIFAR10(root='./data', train=True, download=True, transform=transform)\n",
    "classes = dataset.classes"
   ]
  },
  {
   "cell_type": "code",
   "execution_count": 42,
   "id": "655f03ca-26ab-4acd-89d8-fd5693c77bc3",
   "metadata": {},
   "outputs": [
    {
     "data": {
      "text/plain": [
       "torch.Size([1, 3, 32, 32])"
      ]
     },
     "execution_count": 42,
     "metadata": {},
     "output_type": "execute_result"
    }
   ],
   "source": [
    "def get_image_by_class(dataset, class_name):\n",
    "    class_idx = dataset.class_to_idx[class_name]\n",
    "    for img, label in dataset:\n",
    "        if label==class_idx:\n",
    "            return img.unsqueeze(0), label\n",
    "cat_img, cat_label = get_image_by_class(dataset, \"cat\") # (1,3,H,W)\n",
    "dog_img, dog_label = get_image_by_class(dataset, \"dog\") # (1,3,H,W)\n",
    "dog_img.shape"
   ]
  },
  {
   "cell_type": "code",
   "execution_count": 43,
   "id": "6514c71a-2d34-4bac-b635-b771b7713494",
   "metadata": {},
   "outputs": [],
   "source": [
    "# batch size of 2\n",
    "inputs = torch.cat([cat_img, dog_img]) # (2,3,H,W)\n",
    "targets = torch.tensor([cat_label, dog_label])"
   ]
  },
  {
   "cell_type": "code",
   "execution_count": 44,
   "id": "843ad221-42e3-42ee-87d5-90de7b5af1bf",
   "metadata": {},
   "outputs": [],
   "source": [
    "def mixup_data(x, y, alpha=0.5):\n",
    "    if alpha>0:\n",
    "        lamb = torch.distributions.beta.Beta(alpha, alpha).sample().item()\n",
    "    else:\n",
    "        lamb = 1.0\n",
    "    batch_size = x.size(0)\n",
    "    indices = torch.randperm(batch_size) # randperm(5) = [0,3,4,2,1]\n",
    "    mixed_x = lamb*x+(1-lamb)*x[indices,:]\n",
    "    y_a, y_b = y, y[indices] # y_a:[cat,dog..]; y_b:[dog,dog..] etc.\n",
    "    return mixed_x, y_a, y_b, lamb # (2,3,H,W),(2,),(2,),int\n",
    "\n",
    "mixed_imgs, y_a, y_b, lamb = mixup_data(inputs, targets, alpha=0.4) # 2 rows: cat&dog,0,1,0.3; dog&cat,1,0,0.3"
   ]
  },
  {
   "cell_type": "code",
   "execution_count": 45,
   "id": "f6e7f027-b345-4672-abd5-ccce1d2a8919",
   "metadata": {},
   "outputs": [
    {
     "data": {
      "image/png": "[encoded data removed]",
      "text/plain": [
       "<Figure size 900x300 with 3 Axes>"
      ]
     },
     "metadata": {},
     "output_type": "display_data"
    }
   ],
   "source": [
    "def show_tensor_image(tensor, title=None):\n",
    "    np_img = tensor.permute(1,2,0).numpy() # (H,W,3)\n",
    "    np_img = np.clip(np_img,0,1)\n",
    "    plt.imshow(np_img)\n",
    "    if title:\n",
    "        plt.title(title)\n",
    "    plt.axis(\"off\")\n",
    "    \n",
    "plt.figure(figsize=(9,3))\n",
    "plt.subplot(1,3,1)\n",
    "show_tensor_image(inputs[0], f\"Original: {classes[targets[0]]}\")\n",
    "\n",
    "plt.subplot(1,3,2)\n",
    "show_tensor_image(inputs[1], f\"Original: {classes[targets[1]]}\")\n",
    "\n",
    "plt.subplot(1,3,3)\n",
    "show_tensor_image(mixed_imgs[0], f\"Mixed: {classes[y_a[0]]}+{classes[y_b[0]]}\\nlambda={lamb:.2f}\")\n",
    "plt.tight_layout()\n",
    "plt.show()"
   ]
  },
  {
   "cell_type": "raw",
   "id": "d4b424fa-8e63-45f2-af46-a3c9601b4cd6",
   "metadata": {},
   "source": [
    "Implementation"
   ]
  },
  {
   "cell_type": "code",
   "execution_count": null,
   "id": "26fa526c-18bf-4159-b1e5-4fa2e8f9eba7",
   "metadata": {},
   "outputs": [],
   "source": []
  }
 ],
 "metadata": {
  "kernelspec": {
   "display_name": "Python 3 (ipykernel)",
   "language": "python",
   "name": "python3"
  },
  "language_info": {
   "codemirror_mode": {
    "name": "ipython",
    "version": 3
   },
   "file_extension": ".py",
   "mimetype": "text/x-python",
   "name": "python",
   "nbconvert_exporter": "python",
   "pygments_lexer": "ipython3",
   "version": "3.10.16"
  }
 },
 "nbformat": 4,
 "nbformat_minor": 5
}
