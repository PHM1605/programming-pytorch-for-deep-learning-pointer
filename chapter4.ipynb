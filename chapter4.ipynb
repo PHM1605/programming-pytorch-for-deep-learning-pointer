{
 "cells": [
  {
   "cell_type": "markdown",
   "id": "dd877c51-d1f5-43f8-9a6a-ee3d5f71e9e7",
   "metadata": {},
   "source": [
    "# Transfer learning and other tricks"
   ]
  },
  {
   "cell_type": "code",
   "execution_count": 31,
   "id": "7de450eb-7abc-40ee-9085-90e343bb26b1",
   "metadata": {},
   "outputs": [],
   "source": [
    "import torch\n",
    "import torchvision\n",
    "import torch.optim as optim\n",
    "import torch.nn as nn\n",
    "import torch.utils.data\n",
    "import torch.nn.functional as F\n",
    "from torchvision import models, transforms\n",
    "from PIL import Image\n",
    "import matplotlib.pyplot as plt\n"
   ]
  },
  {
   "cell_type": "code",
   "execution_count": 32,
   "id": "07a46952-c575-49d7-b107-89ff419a54d7",
   "metadata": {},
   "outputs": [],
   "source": [
    "transfer_model = models.resnet50(weights=True)"
   ]
  },
  {
   "cell_type": "markdown",
   "id": "648e954a-099f-4ae9-8624-f9497f1b88d0",
   "metadata": {},
   "source": [
    "## Freezing params - except BatchNorm"
   ]
  },
  {
   "cell_type": "code",
   "execution_count": 33,
   "id": "2ea299ab-b9b3-461b-856d-3fe91175e746",
   "metadata": {},
   "outputs": [],
   "source": [
    "for name, param in transfer_model.named_parameters():\n",
    "    if (\"bn\" not in name):\n",
    "        param.requires_grad = False \n",
    "        "
   ]
  },
  {
   "cell_type": "markdown",
   "id": "266458c7-0178-4999-a126-d4c5a496497f",
   "metadata": {},
   "source": [
    "## Replacing the classifier (fc)"
   ]
  },
  {
   "cell_type": "code",
   "execution_count": 34,
   "id": "91ccf14c-d117-421b-9739-50b2dc1dd62a",
   "metadata": {},
   "outputs": [],
   "source": [
    "transfer_model.fc = nn.Sequential(\n",
    "    nn.Linear(transfer_model.fc.in_features, 500), \n",
    "    nn.ReLU(), \n",
    "    nn.Dropout(), \n",
    "    nn.Linear(500, 2))"
   ]
  },
  {
   "cell_type": "markdown",
   "id": "28109c94-a0f7-428f-a372-e2618e21680d",
   "metadata": {},
   "source": [
    "## Training again "
   ]
  },
  {
   "cell_type": "code",
   "execution_count": 35,
   "id": "482ffb7e-998a-4a43-9408-d3a42052f80a",
   "metadata": {},
   "outputs": [
    {
     "name": "stdout",
     "output_type": "stream",
     "text": [
      "Device is:  cuda\n"
     ]
    }
   ],
   "source": [
    "if torch.cuda.is_available():\n",
    "    device = torch.device(\"cuda\")\n",
    "else:\n",
    "    device = torch.device(\"cpu\")\n",
    "print(\"Device is: \", device) \n",
    "transfer_model.to(device)\n",
    "optimizer = optim.Adam(transfer_model.parameters(), lr=0.001)"
   ]
  },
  {
   "cell_type": "code",
   "execution_count": 36,
   "id": "9c925ea5-f1e9-4674-b9c0-45df8cc0cd2b",
   "metadata": {},
   "outputs": [],
   "source": [
    "def check_image(path):\n",
    "    try:\n",
    "        img = Image.open(path)\n",
    "        return True \n",
    "    except:\n",
    "        return False"
   ]
  },
  {
   "cell_type": "code",
   "execution_count": 37,
   "id": "d8c5c1c7-aed5-4e2c-9c06-311778d33737",
   "metadata": {},
   "outputs": [],
   "source": [
    "img_transforms = transforms.Compose([\n",
    "    transforms.Resize((64, 64)),\n",
    "    transforms.ToTensor(),\n",
    "    transforms.Normalize(mean=[0.485, 0.456, 0.406], std=[0.229, 0.224, 0.225])\n",
    "])\n",
    "\n",
    "train_data_path = \"./cat-dog-data/train\"\n",
    "train_data = torchvision.datasets.ImageFolder(root=train_data_path, transform=img_transforms, is_valid_file=check_image)\n",
    "val_data_path = \"./cat-dog-data/val\"\n",
    "val_data = torchvision.datasets.ImageFolder(root=val_data_path, transform=img_transforms, is_valid_file=check_image)\n",
    "\n"
   ]
  },
  {
   "cell_type": "code",
   "execution_count": 38,
   "id": "b1e5d861-0316-4b8c-8a10-d88cc05b74aa",
   "metadata": {},
   "outputs": [
    {
     "name": "stdout",
     "output_type": "stream",
     "text": [
      "200\n"
     ]
    }
   ],
   "source": [
    "batch_size=64\n",
    "train_data_loader = torch.utils.data.DataLoader(train_data, batch_size=batch_size, shuffle=True)\n",
    "val_data_loader = torch.utils.data.DataLoader(val_data, batch_size=batch_size, shuffle=True)\n",
    "print(len(val_data_loader.dataset))"
   ]
  },
  {
   "cell_type": "code",
   "execution_count": 41,
   "id": "a3280fc3-c524-4169-a208-c24703a1b17e",
   "metadata": {},
   "outputs": [],
   "source": [
    "def train(model, optimizer, loss_fn, train_loader, val_loader, epochs, device):\n",
    "    for epoch in range(epochs):\n",
    "        training_loss = 0.0\n",
    "        valid_loss = 0.0\n",
    "        model.train()\n",
    "        for batch in train_loader:\n",
    "            optimizer.zero_grad()\n",
    "            inputs, targets = batch \n",
    "            inputs = inputs.to(device)\n",
    "            targets = targets.to(device)\n",
    "            output = model(inputs)\n",
    "            loss = loss_fn(output, targets)\n",
    "            loss.backward()\n",
    "            optimizer.step()\n",
    "            training_loss += loss.data.item() * inputs.size(0)\n",
    "        training_loss /= len(train_loader.dataset)\n",
    "\n",
    "        model.eval()\n",
    "        num_correct = 0\n",
    "        num_examples = 0\n",
    "        for batch in val_loader:\n",
    "            inputs, targets = batch\n",
    "            inputs = inputs.to(device)\n",
    "            output = model(inputs) # [batch, num_classes]\n",
    "            targets = targets.to(device)\n",
    "            loss = loss_fn(output, targets)\n",
    "            valid_loss += loss.data.item() * inputs.size(0)\n",
    "            correct = torch.eq( torch.max(F.softmax(output, dim=1), dim=1)[1], targets ).view(-1) \n",
    "            num_correct += torch.sum(correct).item()\n",
    "            num_examples += correct.shape[0]\n",
    "        valid_loss /= len(val_loader.dataset)\n",
    "\n",
    "        print(\"Epoch: {}, Training Loss: {:.2f}, Validation Loss: {:.2f}, accuracy: {:.2f}\".format(epoch, training_loss, valid_loss, num_correct/num_examples))"
   ]
  },
  {
   "cell_type": "code",
   "execution_count": 42,
   "id": "12133bba-5596-4b74-89eb-d747eb9bc5fa",
   "metadata": {},
   "outputs": [
    {
     "name": "stdout",
     "output_type": "stream",
     "text": [
      "Epoch: 0, Training Loss: 0.20, Validation Loss: 0.57, accuracy: 0.79\n",
      "Epoch: 1, Training Loss: 0.16, Validation Loss: 0.53, accuracy: 0.81\n",
      "Epoch: 2, Training Loss: 0.24, Validation Loss: 0.84, accuracy: 0.77\n",
      "Epoch: 3, Training Loss: 0.25, Validation Loss: 0.86, accuracy: 0.76\n",
      "Epoch: 4, Training Loss: 0.17, Validation Loss: 0.72, accuracy: 0.78\n"
     ]
    }
   ],
   "source": [
    "train(transfer_model, optimizer, torch.nn.CrossEntropyLoss(), train_data_loader, val_data_loader, epochs=5, device=device)"
   ]
  },
  {
   "cell_type": "code",
   "execution_count": null,
   "id": "2a7a6cec-a88f-4ea4-9636-25d257ec6021",
   "metadata": {},
   "outputs": [],
   "source": []
  }
 ],
 "metadata": {
  "kernelspec": {
   "display_name": "Python 3 (ipykernel)",
   "language": "python",
   "name": "python3"
  },
  "language_info": {
   "codemirror_mode": {
    "name": "ipython",
    "version": 3
   },
   "file_extension": ".py",
   "mimetype": "text/x-python",
   "name": "python",
   "nbconvert_exporter": "python",
   "pygments_lexer": "ipython3",
   "version": "3.10.16"
  }
 },
 "nbformat": 4,
 "nbformat_minor": 5
}
