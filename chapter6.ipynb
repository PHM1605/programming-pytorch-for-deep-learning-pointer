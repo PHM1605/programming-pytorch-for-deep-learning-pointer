{
 "cells": [
  {
   "cell_type": "markdown",
   "id": "f453988a-e544-4129-a7c7-5a7e596bd125",
   "metadata": {},
   "source": [
    "# A Journey into sound"
   ]
  },
  {
   "cell_type": "raw",
   "id": "822bef23-2591-42d9-b15a-20772404cd7c",
   "metadata": {},
   "source": [
    "git clone https://github.com/karolpiczak/ESC-50.git"
   ]
  },
  {
   "cell_type": "code",
   "execution_count": null,
   "id": "ba816d7c-37cd-447c-b573-af9eb5acbd6f",
   "metadata": {},
   "outputs": [],
   "source": [
    "import IPython.display as display\n",
    "display.Audio(\"../ESC-50/audio/1-100032-A-0.wav\")"
   ]
  }
 ],
 "metadata": {
  "kernelspec": {
   "display_name": "Python 3 (ipykernel)",
   "language": "python",
   "name": "python3"
  },
  "language_info": {
   "codemirror_mode": {
    "name": "ipython",
    "version": 3
   },
   "file_extension": ".py",
   "mimetype": "text/x-python",
   "name": "python",
   "nbconvert_exporter": "python",
   "pygments_lexer": "ipython3",
   "version": "3.10.16"
  }
 },
 "nbformat": 4,
 "nbformat_minor": 5
}
