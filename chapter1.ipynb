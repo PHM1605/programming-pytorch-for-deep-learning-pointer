{
 "cells": [
  {
   "cell_type": "code",
   "execution_count": 1,
   "id": "02af5bd3-3f1c-4f70-8e91-33e4c132a1cb",
   "metadata": {},
   "outputs": [
    {
     "name": "stdout",
     "output_type": "stream",
     "text": [
      "True\n"
     ]
    }
   ],
   "source": [
    "# Check if torch is available\n",
    "import torch\n",
    "print(torch.cuda.is_available())"
   ]
  },
  {
   "cell_type": "markdown",
   "id": "4c00a8a8-abf4-4db7-bab7-040447d983a8",
   "metadata": {},
   "source": [
    "# Tensor Operations"
   ]
  },
  {
   "cell_type": "markdown",
   "id": "192d79f1-2480-4b5d-a504-0e6ebc8d2134",
   "metadata": {},
   "source": [
    "## Convert a LongTensor to FloatTensor"
   ]
  },
  {
   "cell_type": "code",
   "execution_count": 11,
   "id": "e31354bb-7fcc-4dfa-ad7f-624c4f4e9b06",
   "metadata": {},
   "outputs": [
    {
     "data": {
      "text/plain": [
       "'torch.LongTensor'"
      ]
     },
     "execution_count": 11,
     "metadata": {},
     "output_type": "execute_result"
    }
   ],
   "source": [
    "\n",
    "long_tensor = torch.tensor([[0,0,1],[1,1,1],[0,0,0]])\n",
    "long_tensor.type()"
   ]
  },
  {
   "cell_type": "code",
   "execution_count": 14,
   "id": "34495e2a-0f9f-4038-b967-8623cd38037e",
   "metadata": {},
   "outputs": [
    {
     "data": {
      "text/plain": [
       "'torch.FloatTensor'"
      ]
     },
     "execution_count": 14,
     "metadata": {},
     "output_type": "execute_result"
    }
   ],
   "source": [
    "float_tensor = torch.tensor([[0,0,1],[1,1,1],[0,0,0]]).to(dtype=torch.float32)\n",
    "float_tensor.type()"
   ]
  },
  {
   "cell_type": "markdown",
   "id": "792f0678-2cb9-4d60-8096-8eace3aced9c",
   "metadata": {},
   "source": [
    "## Reshape tensor"
   ]
  },
  {
   "cell_type": "markdown",
   "id": "b8ab9a1f-a62c-4062-a0de-dadc03f602d1",
   "metadata": {},
   "source": [
    "### View: might need tensor.contiguous() before using"
   ]
  },
  {
   "cell_type": "code",
   "execution_count": 15,
   "id": "44c8710d-7821-45fc-bf0f-cc790e507356",
   "metadata": {},
   "outputs": [
    {
     "data": {
      "text/plain": [
       "torch.Size([1, 28, 28])"
      ]
     },
     "execution_count": 15,
     "metadata": {},
     "output_type": "execute_result"
    }
   ],
   "source": [
    "flat_tensor = torch.rand(784)\n",
    "viewed_tensor = flat_tensor.view(1,28,28)\n",
    "viewed_tensor.shape"
   ]
  },
  {
   "cell_type": "code",
   "execution_count": 16,
   "id": "6814ffa5-b726-4950-b845-70c5953f47da",
   "metadata": {},
   "outputs": [
    {
     "data": {
      "text/plain": [
       "torch.Size([1, 28, 28])"
      ]
     },
     "execution_count": 16,
     "metadata": {},
     "output_type": "execute_result"
    }
   ],
   "source": [
    "reshaped_tensor = flat_tensor.reshape(1,28,28)\n",
    "reshaped_tensor.shape"
   ]
  },
  {
   "cell_type": "markdown",
   "id": "0161b37d-e53b-49cb-af7d-7953f81b86fb",
   "metadata": {},
   "source": [
    "### Pytorch might need [channel,height,width] before using"
   ]
  },
  {
   "cell_type": "code",
   "execution_count": 18,
   "id": "6b54bfb1-b1da-4de2-8e40-1e3cc9a4b832",
   "metadata": {},
   "outputs": [
    {
     "data": {
      "text/plain": [
       "torch.Size([3, 640, 480])"
      ]
     },
     "execution_count": 18,
     "metadata": {},
     "output_type": "execute_result"
    }
   ],
   "source": [
    "hwc_tensor = torch.rand(640, 480, 3)\n",
    "chw_tensor = hwc_tensor.permute(2,0,1)\n",
    "chw_tensor.shape"
   ]
  },
  {
   "cell_type": "code",
   "execution_count": null,
   "id": "687d286d-7f05-4dca-8f7d-0a5223924ed7",
   "metadata": {},
   "outputs": [],
   "source": []
  }
 ],
 "metadata": {
  "kernelspec": {
   "display_name": "Python 3 (ipykernel)",
   "language": "python",
   "name": "python3"
  },
  "language_info": {
   "codemirror_mode": {
    "name": "ipython",
    "version": 3
   },
   "file_extension": ".py",
   "mimetype": "text/x-python",
   "name": "python",
   "nbconvert_exporter": "python",
   "pygments_lexer": "ipython3",
   "version": "3.10.16"
  }
 },
 "nbformat": 4,
 "nbformat_minor": 5
}
