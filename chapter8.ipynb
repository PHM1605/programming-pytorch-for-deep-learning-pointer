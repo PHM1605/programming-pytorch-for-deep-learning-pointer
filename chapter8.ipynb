{
 "cells": [
  {
   "cell_type": "markdown",
   "id": "876901ff-e2e6-4650-8f94-66c5148b29e2",
   "metadata": {},
   "source": [
    "## TorchScript "
   ]
  },
  {
   "cell_type": "markdown",
   "id": "25fcf58c-9ae6-479e-8309-b15e23f509be",
   "metadata": {},
   "source": [
    "### JIT Tracing "
   ]
  },
  {
   "cell_type": "code",
   "execution_count": 1,
   "id": "d1be7e90-7c75-44c4-b4ad-d08874d4edd9",
   "metadata": {},
   "outputs": [],
   "source": [
    "import torch\n",
    "import torchvision"
   ]
  },
  {
   "cell_type": "code",
   "execution_count": 4,
   "id": "15856a12-6c24-4e60-9feb-a81021b6b093",
   "metadata": {},
   "outputs": [],
   "source": [
    "model = torchvision.models.alexnet(weights=None)\n",
    "# trace_model is now a GRAPH, not EAGER\n",
    "model.eval()\n",
    "example_input = torch.rand(1,3,224,224)\n",
    "traced_model = torch.jit.trace(model, example_input)\n"
   ]
  },
  {
   "cell_type": "code",
   "execution_count": 5,
   "id": "03e61246-c7e8-4c35-a3a1-794a9e2f4c42",
   "metadata": {},
   "outputs": [],
   "source": [
    "# Save the traced_model\n",
    "traced_model.save(\"alexnet_traced.pt\")"
   ]
  },
  {
   "cell_type": "code",
   "execution_count": 7,
   "id": "80bd27e8-5ea7-4b09-8edf-35f103df5eac",
   "metadata": {},
   "outputs": [
    {
     "name": "stdout",
     "output_type": "stream",
     "text": [
      "AlexNet(\n",
      "  original_name=AlexNet\n",
      "  (features): Sequential(\n",
      "    original_name=Sequential\n",
      "    (0): Conv2d(original_name=Conv2d)\n",
      "    (1): ReLU(original_name=ReLU)\n",
      "    (2): MaxPool2d(original_name=MaxPool2d)\n",
      "    (3): Conv2d(original_name=Conv2d)\n",
      "    (4): ReLU(original_name=ReLU)\n",
      "    (5): MaxPool2d(original_name=MaxPool2d)\n",
      "    (6): Conv2d(original_name=Conv2d)\n",
      "    (7): ReLU(original_name=ReLU)\n",
      "    (8): Conv2d(original_name=Conv2d)\n",
      "    (9): ReLU(original_name=ReLU)\n",
      "    (10): Conv2d(original_name=Conv2d)\n",
      "    (11): ReLU(original_name=ReLU)\n",
      "    (12): MaxPool2d(original_name=MaxPool2d)\n",
      "  )\n",
      "  (avgpool): AdaptiveAvgPool2d(original_name=AdaptiveAvgPool2d)\n",
      "  (classifier): Sequential(\n",
      "    original_name=Sequential\n",
      "    (0): Dropout(original_name=Dropout)\n",
      "    (1): Linear(original_name=Linear)\n",
      "    (2): ReLU(original_name=ReLU)\n",
      "    (3): Dropout(original_name=Dropout)\n",
      "    (4): Linear(original_name=Linear)\n",
      "    (5): ReLU(original_name=ReLU)\n",
      "    (6): Linear(original_name=Linear)\n",
      "  )\n",
      ")\n"
     ]
    }
   ],
   "source": [
    "print(traced_model)"
   ]
  },
  {
   "cell_type": "code",
   "execution_count": 8,
   "id": "42be1438-5c43-4e00-979d-629e251cf537",
   "metadata": {},
   "outputs": [
    {
     "name": "stdout",
     "output_type": "stream",
     "text": [
      "def forward(self,\n",
      "    x: Tensor) -> Tensor:\n",
      "  classifier = self.classifier\n",
      "  avgpool = self.avgpool\n",
      "  features = self.features\n",
      "  _0 = (avgpool).forward((features).forward(x, ), )\n",
      "  input = torch.flatten(_0, 1)\n",
      "  return (classifier).forward(input, )\n",
      "\n"
     ]
    }
   ],
   "source": [
    "print(traced_model.code)"
   ]
  },
  {
   "cell_type": "code",
   "execution_count": 6,
   "id": "5d3c41f9-6858-4d4f-afb0-11296862a0e6",
   "metadata": {},
   "outputs": [
    {
     "name": "stdout",
     "output_type": "stream",
     "text": [
      "torch.Size([1, 1000])\n"
     ]
    }
   ],
   "source": [
    "# Load model and run it\n",
    "loaded_model = torch.jit.load(\"alexnet_traced.pt\")\n",
    "out = loaded_model(torch.rand(1,3,224,224))\n",
    "print(out.shape)"
   ]
  },
  {
   "cell_type": "markdown",
   "id": "0f441fef-0992-4ed7-97ce-94698da7980a",
   "metadata": {},
   "source": [
    "### Scripting"
   ]
  },
  {
   "cell_type": "code",
   "execution_count": 4,
   "id": "8cd2125c-a6fd-4acc-a627-a7e36daccf16",
   "metadata": {},
   "outputs": [],
   "source": [
    "import torch\n",
    "import torch.nn as nn\n",
    "\n",
    "@torch.jit.script\n",
    "def example(x, y):\n",
    "    if x.min() > y.min():\n",
    "        r = x \n",
    "    else:\n",
    "        r = y \n",
    "    return r \n",
    "    "
   ]
  },
  {
   "cell_type": "code",
   "execution_count": 16,
   "id": "8704247e-77c2-4ae1-afd2-81fff294fbc8",
   "metadata": {},
   "outputs": [
    {
     "name": "stdout",
     "output_type": "stream",
     "text": [
      "Output shape:  torch.Size([1, 2])\n"
     ]
    }
   ],
   "source": [
    "# Note: inherit from torch.jit.ScriptModule and \"torch.jit.script_method\" can only be used when we have 1 jit.trace() only\n",
    "# here we have 2 layers with trace()\n",
    "class FeaturesCNNNet(nn.Module):\n",
    "    def __init__(self, num_classes=2):\n",
    "        super().__init__()\n",
    "        features = nn.Sequential(\n",
    "            nn.Conv2d(3, 64, kernel_size=11, stride=4, padding=2),\n",
    "            nn.ReLU(),\n",
    "            nn.MaxPool2d(kernel_size=3, stride=2),\n",
    "            nn.Conv2d(64, 192, kernel_size=5, padding=2),\n",
    "            nn.ReLU(),\n",
    "            nn.MaxPool2d(kernel_size=3, stride=2),\n",
    "            nn.Conv2d(192, 384, kernel_size=3, padding=1),\n",
    "            nn.ReLU(),\n",
    "            nn.Conv2d(384, 256, kernel_size=3, padding=1),\n",
    "            nn.ReLU(),\n",
    "            nn.Conv2d(256, 256, kernel_size=3, padding=1),\n",
    "            nn.ReLU(),\n",
    "            nn.MaxPool2d(kernel_size=3, stride=2)\n",
    "            )\n",
    "        features.eval()\n",
    "        self.features = torch.jit.trace(features.eval(), torch.rand(1,3,224,224))\n",
    "        # Note: we have dropout, hence must be eval() first\n",
    "        classifier = nn.Sequential(\n",
    "            nn.Dropout(),\n",
    "            nn.Linear(256*6*6, 4096),\n",
    "            nn.ReLU(),\n",
    "            nn.Dropout(),\n",
    "            nn.Linear(4096, 4096),\n",
    "            nn.ReLU(),\n",
    "            nn.Linear(4096, num_classes)\n",
    "        )\n",
    "        classifier.eval()\n",
    "        self.classifier = torch.jit.trace(classifier, torch.rand(1,256*6*6))\n",
    "    def forward(self, x):\n",
    "        x = self.features(x)\n",
    "        x = x.view(x.size(0), -1)\n",
    "        x = self.classifier(x)\n",
    "        return x\n",
    "            \n",
    "model = FeaturesCNNNet()\n",
    "x = torch.rand(1, 3, 224, 224)\n",
    "out = model(x)\n",
    "print(\"Output shape: \", out.shape)\n",
    "    "
   ]
  },
  {
   "cell_type": "code",
   "execution_count": 18,
   "id": "d78a0c87-2c0a-4d6e-8bfa-3e8c0dc0ca4a",
   "metadata": {},
   "outputs": [],
   "source": [
    "# save model\n",
    "torch.jit.script(model.eval()).save(\"full.pt\")"
   ]
  },
  {
   "cell_type": "code",
   "execution_count": 19,
   "id": "f4b65b55-a45c-4e84-a99b-bb57b821849b",
   "metadata": {},
   "outputs": [],
   "source": [
    "# load model\n",
    "loaded_model = torch.jit.load(\"full.pt\")"
   ]
  },
  {
   "cell_type": "markdown",
   "id": "e758b1d4-b312-46ac-a705-27d4cd6946c0",
   "metadata": {},
   "source": [
    "### Weirdness"
   ]
  },
  {
   "cell_type": "code",
   "execution_count": 21,
   "id": "e53ce405-0aa8-4d98-908e-e725b088d30d",
   "metadata": {},
   "outputs": [
    {
     "name": "stdout",
     "output_type": "stream",
     "text": [
      "def add_int(x: Tensor,\n",
      "    y: Tensor) -> Tensor:\n",
      "  return torch.add(x, y)\n",
      "\n"
     ]
    }
   ],
   "source": [
    "# reason: TorchScript assumes default=Tensor\n",
    "@torch.jit.script\n",
    "def add_int(x, y):\n",
    "    return x + y\n",
    "print(add_int.code)"
   ]
  },
  {
   "cell_type": "code",
   "execution_count": 22,
   "id": "f3c0dc47-f819-46f8-90a2-cb45143a3076",
   "metadata": {},
   "outputs": [
    {
     "name": "stdout",
     "output_type": "stream",
     "text": [
      "def add_int(x: int,\n",
      "    y: int) -> int:\n",
      "  return torch.add(x, y)\n",
      "\n"
     ]
    }
   ],
   "source": [
    "# solution: we must use \"type decorator\"\n",
    "@torch.jit.script\n",
    "def add_int(x:int, y:int) -> int:\n",
    "    return x+y\n",
    "print(add_int.code)"
   ]
  }
 ],
 "metadata": {
  "kernelspec": {
   "display_name": "Python 3 (ipykernel)",
   "language": "python",
   "name": "python3"
  },
  "language_info": {
   "codemirror_mode": {
    "name": "ipython",
    "version": 3
   },
   "file_extension": ".py",
   "mimetype": "text/x-python",
   "name": "python",
   "nbconvert_exporter": "python",
   "pygments_lexer": "ipython3",
   "version": "3.10.16"
  }
 },
 "nbformat": 4,
 "nbformat_minor": 5
}
