{
 "cells": [
  {
   "cell_type": "markdown",
   "id": "876901ff-e2e6-4650-8f94-66c5148b29e2",
   "metadata": {},
   "source": [
    "## TorchScript "
   ]
  },
  {
   "cell_type": "markdown",
   "id": "25fcf58c-9ae6-479e-8309-b15e23f509be",
   "metadata": {},
   "source": [
    "### JIT Tracing "
   ]
  },
  {
   "cell_type": "code",
   "execution_count": 1,
   "id": "d1be7e90-7c75-44c4-b4ad-d08874d4edd9",
   "metadata": {},
   "outputs": [],
   "source": [
    "import torch\n",
    "import torchvision"
   ]
  },
  {
   "cell_type": "code",
   "execution_count": 4,
   "id": "15856a12-6c24-4e60-9feb-a81021b6b093",
   "metadata": {},
   "outputs": [],
   "source": [
    "model = torchvision.models.alexnet(weights=None)\n",
    "# trace_model is now a GRAPH, not EAGER\n",
    "model.eval()\n",
    "example_input = torch.rand(1,3,224,224)\n",
    "traced_model = torch.jit.trace(model, example_input)\n"
   ]
  },
  {
   "cell_type": "code",
   "execution_count": 5,
   "id": "03e61246-c7e8-4c35-a3a1-794a9e2f4c42",
   "metadata": {},
   "outputs": [],
   "source": [
    "# Save the traced_model\n",
    "traced_model.save(\"alexnet_traced.pt\")"
   ]
  },
  {
   "cell_type": "code",
   "execution_count": 7,
   "id": "80bd27e8-5ea7-4b09-8edf-35f103df5eac",
   "metadata": {},
   "outputs": [
    {
     "name": "stdout",
     "output_type": "stream",
     "text": [
      "AlexNet(\n",
      "  original_name=AlexNet\n",
      "  (features): Sequential(\n",
      "    original_name=Sequential\n",
      "    (0): Conv2d(original_name=Conv2d)\n",
      "    (1): ReLU(original_name=ReLU)\n",
      "    (2): MaxPool2d(original_name=MaxPool2d)\n",
      "    (3): Conv2d(original_name=Conv2d)\n",
      "    (4): ReLU(original_name=ReLU)\n",
      "    (5): MaxPool2d(original_name=MaxPool2d)\n",
      "    (6): Conv2d(original_name=Conv2d)\n",
      "    (7): ReLU(original_name=ReLU)\n",
      "    (8): Conv2d(original_name=Conv2d)\n",
      "    (9): ReLU(original_name=ReLU)\n",
      "    (10): Conv2d(original_name=Conv2d)\n",
      "    (11): ReLU(original_name=ReLU)\n",
      "    (12): MaxPool2d(original_name=MaxPool2d)\n",
      "  )\n",
      "  (avgpool): AdaptiveAvgPool2d(original_name=AdaptiveAvgPool2d)\n",
      "  (classifier): Sequential(\n",
      "    original_name=Sequential\n",
      "    (0): Dropout(original_name=Dropout)\n",
      "    (1): Linear(original_name=Linear)\n",
      "    (2): ReLU(original_name=ReLU)\n",
      "    (3): Dropout(original_name=Dropout)\n",
      "    (4): Linear(original_name=Linear)\n",
      "    (5): ReLU(original_name=ReLU)\n",
      "    (6): Linear(original_name=Linear)\n",
      "  )\n",
      ")\n"
     ]
    }
   ],
   "source": [
    "print(traced_model)"
   ]
  },
  {
   "cell_type": "code",
   "execution_count": 8,
   "id": "42be1438-5c43-4e00-979d-629e251cf537",
   "metadata": {},
   "outputs": [
    {
     "name": "stdout",
     "output_type": "stream",
     "text": [
      "def forward(self,\n",
      "    x: Tensor) -> Tensor:\n",
      "  classifier = self.classifier\n",
      "  avgpool = self.avgpool\n",
      "  features = self.features\n",
      "  _0 = (avgpool).forward((features).forward(x, ), )\n",
      "  input = torch.flatten(_0, 1)\n",
      "  return (classifier).forward(input, )\n",
      "\n"
     ]
    }
   ],
   "source": [
    "print(traced_model.code)"
   ]
  },
  {
   "cell_type": "code",
   "execution_count": 6,
   "id": "5d3c41f9-6858-4d4f-afb0-11296862a0e6",
   "metadata": {},
   "outputs": [
    {
     "name": "stdout",
     "output_type": "stream",
     "text": [
      "torch.Size([1, 1000])\n"
     ]
    }
   ],
   "source": [
    "# Load model and run it\n",
    "loaded_model = torch.jit.load(\"alexnet_traced.pt\")\n",
    "out = loaded_model(torch.rand(1,3,224,224))\n",
    "print(out.shape)"
   ]
  },
  {
   "cell_type": "code",
   "execution_count": null,
   "id": "8c0f8a24-b153-41d7-8aa8-9e0dbcde2648",
   "metadata": {},
   "outputs": [],
   "source": []
  }
 ],
 "metadata": {
  "kernelspec": {
   "display_name": "Python 3 (ipykernel)",
   "language": "python",
   "name": "python3"
  },
  "language_info": {
   "codemirror_mode": {
    "name": "ipython",
    "version": 3
   },
   "file_extension": ".py",
   "mimetype": "text/x-python",
   "name": "python",
   "nbconvert_exporter": "python",
   "pygments_lexer": "ipython3",
   "version": "3.10.16"
  }
 },
 "nbformat": 4,
 "nbformat_minor": 5
}
