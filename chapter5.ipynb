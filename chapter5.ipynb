{
 "cells": [
  {
   "cell_type": "markdown",
   "id": "00b1bf64-87cb-4915-b4ce-075110e0b23a",
   "metadata": {},
   "source": [
    "# Text classification\n",
    "## Recurrent Neural Networks\n",
    "## LSTM\n",
    "## Gated Recurrent Units\n",
    "## biLSTM\n"
   ]
  },
  {
   "cell_type": "markdown",
   "id": "480c8e1b-624d-4560-a9e6-66fdd20402d7",
   "metadata": {},
   "source": [
    "## Embeddings"
   ]
  },
  {
   "cell_type": "code",
   "execution_count": 1,
   "id": "d2f9ab06-c283-49a6-8435-d3521738cf93",
   "metadata": {},
   "outputs": [],
   "source": [
    "import torch\n",
    "import torch.nn as nn\n"
   ]
  },
  {
   "cell_type": "code",
   "execution_count": 2,
   "id": "8c6a1dc8-ee82-469b-b237-64225580c6d4",
   "metadata": {},
   "outputs": [
    {
     "data": {
      "text/plain": [
       "tensor([[ 2.2104, -0.4286]], grad_fn=<EmbeddingBackward0>)"
      ]
     },
     "execution_count": 2,
     "metadata": {},
     "output_type": "execute_result"
    }
   ],
   "source": [
    "cat_mat_embed = nn.Embedding(5,2)\n",
    "cat_tensor = torch.LongTensor([1]) # position of word \"cat\" in dictionary\n",
    "cat_mat_embed.forward(cat_tensor)\n"
   ]
  },
  {
   "cell_type": "markdown",
   "id": "2f50a433-b774-4a23-b5f4-320a4bc04d5c",
   "metadata": {},
   "source": [
    "## Tweets"
   ]
  },
  {
   "cell_type": "code",
   "execution_count": 3,
   "id": "6d4db25f-42f0-4763-9d51-36476946cfd5",
   "metadata": {},
   "outputs": [],
   "source": [
    "import pandas as pd"
   ]
  },
  {
   "cell_type": "code",
   "execution_count": 4,
   "id": "5a321e62-84de-487a-8e24-91a9f319b718",
   "metadata": {},
   "outputs": [],
   "source": [
    "tweetsDF = pd.read_csv(\"tweet-data/training.1600000.processed.noemoticon.csv\", engine=\"python\", encoding=\"latin-1\", header=None)"
   ]
  },
  {
   "cell_type": "code",
   "execution_count": 7,
   "id": "a3ee7186-6743-4e03-acf4-07e1f51a3f68",
   "metadata": {},
   "outputs": [
    {
     "data": {
      "text/html": [
       "<div>\n",
       "<style scoped>\n",
       "    .dataframe tbody tr th:only-of-type {\n",
       "        vertical-align: middle;\n",
       "    }\n",
       "\n",
       "    .dataframe tbody tr th {\n",
       "        vertical-align: top;\n",
       "    }\n",
       "\n",
       "    .dataframe thead th {\n",
       "        text-align: right;\n",
       "    }\n",
       "</style>\n",
       "<table border=\"1\" class=\"dataframe\">\n",
       "  <thead>\n",
       "    <tr style=\"text-align: right;\">\n",
       "      <th></th>\n",
       "      <th>0</th>\n",
       "      <th>1</th>\n",
       "      <th>2</th>\n",
       "      <th>3</th>\n",
       "      <th>4</th>\n",
       "      <th>5</th>\n",
       "    </tr>\n",
       "  </thead>\n",
       "  <tbody>\n",
       "    <tr>\n",
       "      <th>0</th>\n",
       "      <td>0</td>\n",
       "      <td>1467810369</td>\n",
       "      <td>Mon Apr 06 22:19:45 PDT 2009</td>\n",
       "      <td>NO_QUERY</td>\n",
       "      <td>_TheSpecialOne_</td>\n",
       "      <td>@switchfoot http://twitpic.com/2y1zl - Awww, t...</td>\n",
       "    </tr>\n",
       "    <tr>\n",
       "      <th>1</th>\n",
       "      <td>0</td>\n",
       "      <td>1467810672</td>\n",
       "      <td>Mon Apr 06 22:19:49 PDT 2009</td>\n",
       "      <td>NO_QUERY</td>\n",
       "      <td>scotthamilton</td>\n",
       "      <td>is upset that he can't update his Facebook by ...</td>\n",
       "    </tr>\n",
       "    <tr>\n",
       "      <th>2</th>\n",
       "      <td>0</td>\n",
       "      <td>1467810917</td>\n",
       "      <td>Mon Apr 06 22:19:53 PDT 2009</td>\n",
       "      <td>NO_QUERY</td>\n",
       "      <td>mattycus</td>\n",
       "      <td>@Kenichan I dived many times for the ball. Man...</td>\n",
       "    </tr>\n",
       "    <tr>\n",
       "      <th>3</th>\n",
       "      <td>0</td>\n",
       "      <td>1467811184</td>\n",
       "      <td>Mon Apr 06 22:19:57 PDT 2009</td>\n",
       "      <td>NO_QUERY</td>\n",
       "      <td>ElleCTF</td>\n",
       "      <td>my whole body feels itchy and like its on fire</td>\n",
       "    </tr>\n",
       "    <tr>\n",
       "      <th>4</th>\n",
       "      <td>0</td>\n",
       "      <td>1467811193</td>\n",
       "      <td>Mon Apr 06 22:19:57 PDT 2009</td>\n",
       "      <td>NO_QUERY</td>\n",
       "      <td>Karoli</td>\n",
       "      <td>@nationwideclass no, it's not behaving at all....</td>\n",
       "    </tr>\n",
       "  </tbody>\n",
       "</table>\n",
       "</div>"
      ],
      "text/plain": [
       "   0           1                             2         3                4  \\\n",
       "0  0  1467810369  Mon Apr 06 22:19:45 PDT 2009  NO_QUERY  _TheSpecialOne_   \n",
       "1  0  1467810672  Mon Apr 06 22:19:49 PDT 2009  NO_QUERY    scotthamilton   \n",
       "2  0  1467810917  Mon Apr 06 22:19:53 PDT 2009  NO_QUERY         mattycus   \n",
       "3  0  1467811184  Mon Apr 06 22:19:57 PDT 2009  NO_QUERY          ElleCTF   \n",
       "4  0  1467811193  Mon Apr 06 22:19:57 PDT 2009  NO_QUERY           Karoli   \n",
       "\n",
       "                                                   5  \n",
       "0  @switchfoot http://twitpic.com/2y1zl - Awww, t...  \n",
       "1  is upset that he can't update his Facebook by ...  \n",
       "2  @Kenichan I dived many times for the ball. Man...  \n",
       "3    my whole body feels itchy and like its on fire   \n",
       "4  @nationwideclass no, it's not behaving at all....  "
      ]
     },
     "execution_count": 7,
     "metadata": {},
     "output_type": "execute_result"
    }
   ],
   "source": [
    "tweetsDF.head(5)"
   ]
  },
  {
   "cell_type": "code",
   "execution_count": 8,
   "id": "dd38f6c4-54ad-4083-b1e8-25682aaa87df",
   "metadata": {},
   "outputs": [
    {
     "data": {
      "text/plain": [
       "0\n",
       "0    800000\n",
       "4    800000\n",
       "Name: count, dtype: int64"
      ]
     },
     "execution_count": 8,
     "metadata": {},
     "output_type": "execute_result"
    }
   ],
   "source": [
    "tweetsDF[0].value_counts()"
   ]
  },
  {
   "cell_type": "code",
   "execution_count": 9,
   "id": "8be0696c-c773-4d48-8f7a-bc3d28148266",
   "metadata": {},
   "outputs": [],
   "source": [
    "tweetsDF[\"sentiment_cat\"] = tweetsDF[0].astype('category')"
   ]
  },
  {
   "cell_type": "code",
   "execution_count": 10,
   "id": "460033ef-6322-4c6c-9a20-fd2bbba76b48",
   "metadata": {},
   "outputs": [],
   "source": [
    "tweetsDF[\"sentiment\"] = tweetsDF[\"sentiment_cat\"].cat.codes # to make class e.g. (0,4,5) to (0,1,2)"
   ]
  },
  {
   "cell_type": "code",
   "execution_count": 11,
   "id": "96484c0f-ced6-48aa-ab15-1ae9d74f02ed",
   "metadata": {},
   "outputs": [],
   "source": [
    "tweetsDF.to_csv(\"tweet-data/train-processed.csv\", header=None, index=None)\n"
   ]
  },
  {
   "cell_type": "code",
   "execution_count": 13,
   "id": "ceb4e14a-e757-46c8-bc1d-1382a7212ded",
   "metadata": {},
   "outputs": [],
   "source": [
    "tweetsDF.sample(10000).to_csv(\"tweet-data/train-processed-sample.csv\", header=None, index=None)\n"
   ]
  },
  {
   "cell_type": "markdown",
   "id": "72479846-7fc3-49ac-90a4-bb12dd41cbd4",
   "metadata": {},
   "source": [
    "### torchtext"
   ]
  },
  {
   "cell_type": "code",
   "execution_count": 27,
   "id": "ed0efc26-0367-4d3b-8204-115cd6951f6e",
   "metadata": {},
   "outputs": [
    {
     "name": "stderr",
     "output_type": "stream",
     "text": [
      "C:\\Users\\PHM16\\anaconda3\\envs\\python310\\lib\\site-packages\\torchtext\\vocab\\__init__.py:4: UserWarning: \n",
      "/!\\ IMPORTANT WARNING ABOUT TORCHTEXT STATUS /!\\ \n",
      "Torchtext is deprecated and the last released version will be 0.18 (this one). You can silence this warning by calling the following at the beginnign of your scripts: `import torchtext; torchtext.disable_torchtext_deprecation_warning()`\n",
      "  warnings.warn(torchtext._TORCHTEXT_DEPRECATION_MSG)\n",
      "C:\\Users\\PHM16\\anaconda3\\envs\\python310\\lib\\site-packages\\torchtext\\utils.py:4: UserWarning: \n",
      "/!\\ IMPORTANT WARNING ABOUT TORCHTEXT STATUS /!\\ \n",
      "Torchtext is deprecated and the last released version will be 0.18 (this one). You can silence this warning by calling the following at the beginnign of your scripts: `import torchtext; torchtext.disable_torchtext_deprecation_warning()`\n",
      "  warnings.warn(torchtext._TORCHTEXT_DEPRECATION_MSG)\n"
     ]
    }
   ],
   "source": [
    "import pandas as pd\n",
    "from torch.utils.data import Dataset, DataLoader, random_split\n",
    "from torchtext.data.utils import get_tokenizer\n",
    "from torchtext.vocab import build_vocab_from_iterator\n",
    "\n",
    "COLS = [\"score\", \"id\", \"date\", \"query\", \"name\", \"tweet\", \"category\", \"label\"]\n",
    "df = pd.read_csv(\"tweet-data/train-processed.csv\", header=None, names=COLS, encoding_errors=\"ignore\")\n",
    "df = df[[\"tweet\", \"label\"]].dropna().reset_index(drop=True)"
   ]
  },
  {
   "cell_type": "code",
   "execution_count": 30,
   "id": "38a098fa-5582-4006-9a75-7d32ba7c2861",
   "metadata": {},
   "outputs": [
    {
     "data": {
      "text/plain": [
       "(1280000, 160000, 160000)"
      ]
     },
     "execution_count": 30,
     "metadata": {},
     "output_type": "execute_result"
    }
   ],
   "source": [
    "tokenizer = get_tokenizer('spacy')\n",
    "\n",
    "class TweetDS(Dataset):\n",
    "    def __init__(self, frame):\n",
    "        self.frame = frame.reset_index(drop=True)\n",
    "    def __len__(self):\n",
    "        return len(self.frame)\n",
    "    def __getitem__(self, idx):\n",
    "        row = self.frame.iloc[idx]\n",
    "        return int(row[\"label\"]), str(row[\"tweet\"])\n",
    "        \n",
    "full_ds = TweetDS(df)\n",
    "N = len(full_ds)\n",
    "n_train = int(0.8 * N)\n",
    "n_valid = int(0.1 * N)\n",
    "n_test = N - n_train - n_valid\n",
    "train_ds, valid_ds, test_ds = random_split(full_ds, [n_train, n_valid, n_test])\n",
    "len(train_ds), len(valid_ds), len(test_ds)\n",
    "\n"
   ]
  },
  {
   "cell_type": "code",
   "execution_count": 36,
   "id": "a2167905-7828-4ab7-8dcc-f29620681460",
   "metadata": {},
   "outputs": [],
   "source": [
    "# tok(\"Hello World!\") => [\"hello\", \"world\", \"!\"]\n",
    "def tok(text):\n",
    "    return [t.lower() for t in tokenizer(text)]\n",
    "def yield_tokens(ds):\n",
    "    for label, text in ds:\n",
    "        yield tok(text)\n",
    "# vocab: {'<unk>':0, '<pad>':1, 'hello':2, 'world':3, '!':4, 'i':5, 'am':6, 'hungry':7, ...}\n",
    "vocab = build_vocab_from_iterator(yield_tokens(train_ds), specials=[\"<unk>\", \"<pad>\"], max_tokens=20002)\n"
   ]
  },
  {
   "cell_type": "code",
   "execution_count": 37,
   "id": "1d5dd847-5326-4311-ba9d-659708ec2efa",
   "metadata": {},
   "outputs": [],
   "source": [
    "# text_pipeline(\"Hello World!\") => [2,3,5] (index in dict)\n",
    "def text_pipeline(x: str):\n",
    "    return [vocab[token] for token in tok(x)]\n",
    "\n",
    "# batch: [ (1, \"Hello World!\"), (0, \"I am hungry\") ]\n",
    "def collate(batch):\n",
    "    ys, xs = zip(*batch) # ys: (1,0); xs: (\"Hello World!\", \"I am hungry\")\n",
    "    xs = [torch.tensor(text_pipeline(x), dtype=torch.long) for x in xs] # [(2,4), (3,5,6)], \n",
    "    xpad = nn.utils.rnn.pad_sequence(xs, batch_first=True, padding_value=vocab[\"<pad>\"]) # [[2,4,1],[3,5,6]] with 1=<pad>\n",
    "    y = torch.tensor(ys, dtype=torch.long)\n",
    "    return xpad.to(device), y.to(device)\n",
    "\n",
    "train_loader = DataLoader(train_ds, batch_size=32, shuffle=True, collate_fn=collate)\n",
    "valid_loader = DataLoader(valid_ds, batch_size=32, shuffle=False, collate_fn=collate)\n",
    "test_loader = DataLoader(test_ds, batch_size=32, shuffle=False, collate_fn=collate)"
   ]
  },
  {
   "cell_type": "code",
   "execution_count": 38,
   "id": "1748a342-5774-4139-a724-1d0bb5ff5ebc",
   "metadata": {},
   "outputs": [
    {
     "name": "stdout",
     "output_type": "stream",
     "text": [
      "Vocab size: 20002\n"
     ]
    }
   ],
   "source": [
    "print(\"Vocab size:\", len(vocab))"
   ]
  },
  {
   "cell_type": "code",
   "execution_count": 40,
   "id": "8d488261-4160-4808-b97e-90cb25963e8f",
   "metadata": {},
   "outputs": [
    {
     "name": "stdout",
     "output_type": "stream",
     "text": [
      "[('i', 797730), ('!', 723285), ('.', 646865), (' ', 470008), ('to', 452260), ('the', 417411), (',', 386025), ('a', 304317), ('my', 252864), ('it', 242787)]\n"
     ]
    }
   ],
   "source": [
    "# Most common words\n",
    "from collections import Counter \n",
    "counter = Counter()\n",
    "for _, text in train_ds:\n",
    "    counter.update(tok(text))\n",
    "print(counter.most_common(10))"
   ]
  },
  {
   "cell_type": "code",
   "execution_count": null,
   "id": "696ac18b-c8a9-4349-84bd-2a24f49341ee",
   "metadata": {},
   "outputs": [],
   "source": []
  }
 ],
 "metadata": {
  "kernelspec": {
   "display_name": "Python 3 (ipykernel)",
   "language": "python",
   "name": "python3"
  },
  "language_info": {
   "codemirror_mode": {
    "name": "ipython",
    "version": 3
   },
   "file_extension": ".py",
   "mimetype": "text/x-python",
   "name": "python",
   "nbconvert_exporter": "python",
   "pygments_lexer": "ipython3",
   "version": "3.10.16"
  }
 },
 "nbformat": 4,
 "nbformat_minor": 5
}
