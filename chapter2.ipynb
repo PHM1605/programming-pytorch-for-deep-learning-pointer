{
 "cells": [
  {
   "cell_type": "markdown",
   "id": "474bbd7d-9cd8-4fd8-9766-8954a771e0a1",
   "metadata": {},
   "source": [
    "# Image Classification with Pytorch"
   ]
  },
  {
   "cell_type": "markdown",
   "id": "df7fd6b9-7e75-4632-8819-ee508e815307",
   "metadata": {},
   "source": [
    "## Dataset and DataLoader"
   ]
  },
  {
   "cell_type": "code",
   "execution_count": 1,
   "id": "6fe83eb5-0d6c-44a9-8b04-55b8fa5ddbf5",
   "metadata": {},
   "outputs": [],
   "source": [
    "class Dataset(object):\n",
    "    def __getitem__(self, index):\n",
    "        pass\n",
    "\n",
    "    def __len__(self):\n",
    "        pass\n",
    "    "
   ]
  },
  {
   "cell_type": "code",
   "execution_count": 1,
   "id": "997c91d8-6c4d-4ed2-85d7-4d62e49affbb",
   "metadata": {},
   "outputs": [],
   "source": [
    "import torchvision\n",
    "from torchvision import transforms\n",
    "\n",
    "train_data_path = './cat-dog-data/train/'\n",
    "transforms = transforms.Compose([\n",
    "    transforms.Resize((64,64)),\n",
    "    transforms.ToTensor(),\n",
    "    transforms.Normalize(mean=[0.485, 0.456, 0.406], std=[0.229, 0.224, 0.225])\n",
    "])\n",
    "train_data = torchvision.datasets.ImageFolder(root=train_data_path, transform=transforms)\n"
   ]
  },
  {
   "cell_type": "code",
   "execution_count": 2,
   "id": "a6571f7e-08df-4238-9659-45cf4bc7a3e8",
   "metadata": {},
   "outputs": [],
   "source": [
    "val_data_path = './cat-dog-data/val/'\n",
    "val_data = torchvision.datasets.ImageFolder(root=val_data_path, transform=transforms)"
   ]
  },
  {
   "cell_type": "code",
   "execution_count": 4,
   "id": "c99123e3-9311-412a-aed9-892858bdf794",
   "metadata": {},
   "outputs": [],
   "source": [
    "test_data_path = './cat-dog-data/test/'\n",
    "test_data = torchvision.datasets.ImageFolder(root=test_data_path, transform=transforms)"
   ]
  },
  {
   "cell_type": "code",
   "execution_count": 5,
   "id": "2c470b0a-bd3f-45d2-bf43-a9e97697cc94",
   "metadata": {},
   "outputs": [],
   "source": [
    "from torch.utils import data \n",
    "\n",
    "batch_size = 1000\n",
    "train_data_loader = data.DataLoader(\n",
    "    train_data, \n",
    "    batch_size=batch_size,\n",
    "    shuffle=True,\n",
    "    num_workers=8,\n",
    "    pin_memory=True,\n",
    "    persistent_workers=True\n",
    ")\n",
    "val_data_loader = data.DataLoader(\n",
    "    val_data, \n",
    "    batch_size=batch_size,\n",
    "    shuffle=True,\n",
    "    num_workers=4,\n",
    "    pin_memory=True,\n",
    "    persistent_workers=True\n",
    ")\n",
    "test_data_loader = data.DataLoader(test_data, batch_size=batch_size)"
   ]
  },
  {
   "cell_type": "markdown",
   "id": "933e0e03-db41-40bb-9bdb-ffd0e1acf707",
   "metadata": {},
   "source": [
    "## SimpleNet model"
   ]
  },
  {
   "cell_type": "code",
   "execution_count": 6,
   "id": "68e8be7f-1b92-476f-8166-820573e3ea08",
   "metadata": {},
   "outputs": [],
   "source": [
    "import torch\n",
    "torch.backends.cudnn.benchmark = True\n",
    "import torch.nn as nn\n",
    "import torch.nn.functional as F\n",
    "\n",
    "class SimpleNet(nn.Module):\n",
    "    def __init__(self):\n",
    "        super().__init__()\n",
    "        self.fc1 = nn.Linear(12288, 84)\n",
    "        self.fc2 = nn.Linear(84, 50)\n",
    "        self.fc3 = nn.Linear(50, 2)\n",
    "\n",
    "    def forward(self, x):\n",
    "        x = x.view(-1, 12288)\n",
    "        x = F.relu(self.fc1(x))\n",
    "        x = F.relu(self.fc2(x))\n",
    "        x = self.fc3(x) # as we will use CrossEntropyLoss() which calculates 'softmax' already, we don't use softmax here\n",
    "        return x\n",
    "simplenet = SimpleNet()"
   ]
  },
  {
   "cell_type": "code",
   "execution_count": 7,
   "id": "3c61291b-f8ac-4964-8777-2b81d09ed6be",
   "metadata": {},
   "outputs": [],
   "source": [
    "import torch.optim as optim\n",
    "optimizer = optim.Adam(simplenet.parameters(), lr=0.001)\n",
    "loss = nn.CrossEntropyLoss()"
   ]
  },
  {
   "cell_type": "markdown",
   "id": "00f6aee9-b60e-4e6b-8b2b-7701c1bbaffb",
   "metadata": {},
   "source": [
    "## Actual training"
   ]
  },
  {
   "cell_type": "code",
   "execution_count": 8,
   "id": "ba195772-e423-48f8-a427-3d01015057ce",
   "metadata": {},
   "outputs": [],
   "source": [
    "def train(model, optimizer, loss_fn, train_loader, val_loader, epochs=20, device='cpu'):\n",
    "    print(device)\n",
    "    model.to(device)\n",
    "    for epoch in range(epochs):\n",
    "        training_loss = 0.0\n",
    "        valid_loss = 0.0\n",
    "        \n",
    "        model.train()        \n",
    "        for batch in train_loader:\n",
    "            optimizer.zero_grad() # set weight-gradients to zero\n",
    "            inputs, targets = batch # [batch,3,64,64], [batch]\n",
    "            inputs = inputs.to(device, non_blocking=True)\n",
    "            target = targets.to(device, non_blocking=True)\n",
    "            \n",
    "            output = model(inputs)\n",
    "            \n",
    "            loss = loss_fn(output, target)\n",
    "            loss.backward() # gradients in weights\n",
    "            optimizer.step() # update weights\n",
    "            training_loss += loss.data.item() # loss: batch loss\n",
    "        training_loss /= len(train_loader) # average batch loss per epoch\n",
    "\n",
    "        model.eval()\n",
    "        num_correct = 0\n",
    "        num_examples = 0\n",
    "        with torch.no_grad():\n",
    "            for batch in val_loader:\n",
    "                inputs, targets = batch\n",
    "                inputs = inputs.to(device, non_blocking=True)\n",
    "                output = model(inputs)\n",
    "                targets = targets.to(device, non_blocking=True)\n",
    "                loss = loss_fn(output, targets)\n",
    "                valid_loss += loss.data.item()\n",
    "                correct = torch.eq(torch.argmax(output, dim=1), targets)\n",
    "                num_correct += torch.sum(correct).item()\n",
    "                num_examples += correct.shape[0]\n",
    "            valid_loss /= len(val_loader)\n",
    "            print('Epoch: {}, Training Loss: {:.2f}, Validation Loss: {:.2f}, accuracy = {:.2f}'\n",
    "                  .format(epoch, training_loss, valid_loss, num_correct/num_examples))\n",
    "        "
   ]
  },
  {
   "cell_type": "code",
   "execution_count": 9,
   "id": "009269eb-55cf-47c4-9791-12489972c630",
   "metadata": {},
   "outputs": [
    {
     "name": "stdout",
     "output_type": "stream",
     "text": [
      "cuda\n"
     ]
    }
   ],
   "source": [
    "if torch.cuda.is_available():\n",
    "    device = torch.device('cuda')\n",
    "else:\n",
    "    device = torch.device('cpu')\n",
    "print(device)"
   ]
  },
  {
   "cell_type": "code",
   "execution_count": 10,
   "id": "755e0c45-69d6-475d-8360-8007084365f7",
   "metadata": {},
   "outputs": [
    {
     "name": "stdout",
     "output_type": "stream",
     "text": [
      "cuda\n",
      "Epoch: 0, Training Loss: 0.75, Validation Loss: 0.84, accuracy = 0.40\n",
      "Epoch: 1, Training Loss: 0.82, Validation Loss: 0.71, accuracy = 0.50\n",
      "Epoch: 2, Training Loss: 0.84, Validation Loss: 0.90, accuracy = 0.60\n",
      "Epoch: 3, Training Loss: 0.95, Validation Loss: 0.84, accuracy = 0.40\n",
      "Epoch: 4, Training Loss: 0.60, Validation Loss: 1.08, accuracy = 0.70\n",
      "Epoch: 5, Training Loss: 0.72, Validation Loss: 0.98, accuracy = 0.70\n",
      "Epoch: 6, Training Loss: 0.61, Validation Loss: 0.73, accuracy = 0.80\n",
      "Epoch: 7, Training Loss: 0.56, Validation Loss: 0.71, accuracy = 0.60\n",
      "Epoch: 8, Training Loss: 1.69, Validation Loss: 0.59, accuracy = 0.60\n",
      "Epoch: 9, Training Loss: 0.70, Validation Loss: 1.10, accuracy = 0.70\n",
      "Epoch: 10, Training Loss: 1.39, Validation Loss: 1.49, accuracy = 0.50\n",
      "Epoch: 11, Training Loss: 1.41, Validation Loss: 1.38, accuracy = 0.50\n",
      "Epoch: 12, Training Loss: 0.97, Validation Loss: 1.12, accuracy = 0.60\n",
      "Epoch: 13, Training Loss: 1.87, Validation Loss: 1.14, accuracy = 0.50\n",
      "Epoch: 14, Training Loss: 0.95, Validation Loss: 1.25, accuracy = 0.50\n",
      "Epoch: 15, Training Loss: 0.70, Validation Loss: 1.34, accuracy = 0.40\n",
      "Epoch: 16, Training Loss: 0.70, Validation Loss: 1.30, accuracy = 0.50\n",
      "Epoch: 17, Training Loss: 0.83, Validation Loss: 1.19, accuracy = 0.60\n",
      "Epoch: 18, Training Loss: 0.95, Validation Loss: 1.14, accuracy = 0.50\n",
      "Epoch: 19, Training Loss: 0.81, Validation Loss: 1.33, accuracy = 0.50\n",
      "Epoch: 20, Training Loss: 0.73, Validation Loss: 1.22, accuracy = 0.60\n",
      "Epoch: 21, Training Loss: 0.64, Validation Loss: 1.01, accuracy = 0.50\n",
      "Epoch: 22, Training Loss: 0.70, Validation Loss: 0.96, accuracy = 0.50\n",
      "Epoch: 23, Training Loss: 0.82, Validation Loss: 1.04, accuracy = 0.50\n",
      "Epoch: 24, Training Loss: 0.67, Validation Loss: 1.12, accuracy = 0.50\n",
      "Epoch: 25, Training Loss: 2.04, Validation Loss: 0.94, accuracy = 0.50\n",
      "Epoch: 26, Training Loss: 0.67, Validation Loss: 0.66, accuracy = 0.40\n",
      "Epoch: 27, Training Loss: 1.04, Validation Loss: 0.57, accuracy = 0.60\n",
      "Epoch: 28, Training Loss: 0.84, Validation Loss: 0.56, accuracy = 0.70\n",
      "Epoch: 29, Training Loss: 1.19, Validation Loss: 0.49, accuracy = 0.80\n",
      "Epoch: 30, Training Loss: 4.15, Validation Loss: 0.41, accuracy = 0.90\n",
      "Epoch: 31, Training Loss: 0.86, Validation Loss: 0.67, accuracy = 0.50\n",
      "Epoch: 32, Training Loss: 0.69, Validation Loss: 1.07, accuracy = 0.60\n",
      "Epoch: 33, Training Loss: 1.00, Validation Loss: 1.21, accuracy = 0.60\n",
      "Epoch: 34, Training Loss: 0.81, Validation Loss: 1.18, accuracy = 0.50\n",
      "Epoch: 35, Training Loss: 1.28, Validation Loss: 1.10, accuracy = 0.40\n",
      "Epoch: 36, Training Loss: 0.73, Validation Loss: 1.02, accuracy = 0.50\n",
      "Epoch: 37, Training Loss: 0.64, Validation Loss: 0.91, accuracy = 0.60\n",
      "Epoch: 38, Training Loss: 0.74, Validation Loss: 0.79, accuracy = 0.50\n",
      "Epoch: 39, Training Loss: 0.66, Validation Loss: 0.68, accuracy = 0.50\n",
      "Epoch: 40, Training Loss: 0.78, Validation Loss: 0.63, accuracy = 0.60\n",
      "Epoch: 41, Training Loss: 1.26, Validation Loss: 0.81, accuracy = 0.60\n",
      "Epoch: 42, Training Loss: 0.80, Validation Loss: 1.41, accuracy = 0.70\n",
      "Epoch: 43, Training Loss: 0.89, Validation Loss: 1.93, accuracy = 0.60\n",
      "Epoch: 44, Training Loss: 0.73, Validation Loss: 2.24, accuracy = 0.60\n",
      "Epoch: 45, Training Loss: 0.72, Validation Loss: 2.35, accuracy = 0.60\n",
      "Epoch: 46, Training Loss: 0.73, Validation Loss: 2.26, accuracy = 0.50\n",
      "Epoch: 47, Training Loss: 1.26, Validation Loss: 2.07, accuracy = 0.60\n",
      "Epoch: 48, Training Loss: 0.75, Validation Loss: 1.84, accuracy = 0.60\n",
      "Epoch: 49, Training Loss: 0.69, Validation Loss: 1.60, accuracy = 0.50\n",
      "Epoch: 50, Training Loss: 0.61, Validation Loss: 1.36, accuracy = 0.50\n",
      "Epoch: 51, Training Loss: 1.23, Validation Loss: 1.19, accuracy = 0.50\n",
      "Epoch: 52, Training Loss: 0.81, Validation Loss: 1.03, accuracy = 0.60\n",
      "Epoch: 53, Training Loss: 1.22, Validation Loss: 0.84, accuracy = 0.70\n",
      "Epoch: 54, Training Loss: 0.66, Validation Loss: 0.75, accuracy = 0.70\n",
      "Epoch: 55, Training Loss: 1.10, Validation Loss: 0.90, accuracy = 0.60\n",
      "Epoch: 56, Training Loss: 0.67, Validation Loss: 1.20, accuracy = 0.60\n",
      "Epoch: 57, Training Loss: 0.80, Validation Loss: 1.45, accuracy = 0.70\n",
      "Epoch: 58, Training Loss: 0.79, Validation Loss: 1.70, accuracy = 0.70\n",
      "Epoch: 59, Training Loss: 1.70, Validation Loss: 1.49, accuracy = 0.80\n",
      "Epoch: 60, Training Loss: 1.66, Validation Loss: 0.81, accuracy = 0.70\n",
      "Epoch: 61, Training Loss: 1.11, Validation Loss: 1.12, accuracy = 0.70\n",
      "Epoch: 62, Training Loss: 0.87, Validation Loss: 1.57, accuracy = 0.70\n",
      "Epoch: 63, Training Loss: 1.02, Validation Loss: 1.65, accuracy = 0.60\n",
      "Epoch: 64, Training Loss: 1.34, Validation Loss: 1.42, accuracy = 0.60\n",
      "Epoch: 65, Training Loss: 1.07, Validation Loss: 1.08, accuracy = 0.80\n",
      "Epoch: 66, Training Loss: 0.98, Validation Loss: 0.81, accuracy = 0.80\n",
      "Epoch: 67, Training Loss: 0.80, Validation Loss: 0.64, accuracy = 0.90\n",
      "Epoch: 68, Training Loss: 1.00, Validation Loss: 0.53, accuracy = 0.90\n",
      "Epoch: 69, Training Loss: 1.03, Validation Loss: 0.52, accuracy = 0.90\n",
      "Epoch: 70, Training Loss: 0.70, Validation Loss: 0.64, accuracy = 0.70\n",
      "Epoch: 71, Training Loss: 1.31, Validation Loss: 0.81, accuracy = 0.70\n",
      "Epoch: 72, Training Loss: 0.91, Validation Loss: 0.92, accuracy = 0.70\n",
      "Epoch: 73, Training Loss: 1.64, Validation Loss: 1.04, accuracy = 0.70\n",
      "Epoch: 74, Training Loss: 1.03, Validation Loss: 1.18, accuracy = 0.50\n",
      "Epoch: 75, Training Loss: 1.09, Validation Loss: 1.29, accuracy = 0.60\n",
      "Epoch: 76, Training Loss: 0.78, Validation Loss: 1.32, accuracy = 0.60\n",
      "Epoch: 77, Training Loss: 1.70, Validation Loss: 1.25, accuracy = 0.60\n",
      "Epoch: 78, Training Loss: 0.75, Validation Loss: 1.19, accuracy = 0.50\n",
      "Epoch: 79, Training Loss: 2.88, Validation Loss: 1.02, accuracy = 0.50\n",
      "Epoch: 80, Training Loss: 0.95, Validation Loss: 0.72, accuracy = 0.60\n",
      "Epoch: 81, Training Loss: 1.89, Validation Loss: 0.65, accuracy = 0.60\n",
      "Epoch: 82, Training Loss: 0.76, Validation Loss: 0.63, accuracy = 0.60\n",
      "Epoch: 83, Training Loss: 0.93, Validation Loss: 0.60, accuracy = 0.60\n",
      "Epoch: 84, Training Loss: 0.54, Validation Loss: 0.70, accuracy = 0.50\n",
      "Epoch: 85, Training Loss: 0.57, Validation Loss: 0.77, accuracy = 0.50\n",
      "Epoch: 86, Training Loss: 1.04, Validation Loss: 0.73, accuracy = 0.50\n",
      "Epoch: 87, Training Loss: 0.71, Validation Loss: 0.67, accuracy = 0.50\n",
      "Epoch: 88, Training Loss: 0.82, Validation Loss: 0.64, accuracy = 0.50\n",
      "Epoch: 89, Training Loss: 0.64, Validation Loss: 0.63, accuracy = 0.60\n",
      "Epoch: 90, Training Loss: 1.30, Validation Loss: 0.97, accuracy = 0.60\n",
      "Epoch: 91, Training Loss: 0.65, Validation Loss: 2.14, accuracy = 0.60\n",
      "Epoch: 92, Training Loss: 0.98, Validation Loss: 2.77, accuracy = 0.60\n",
      "Epoch: 93, Training Loss: 1.31, Validation Loss: 2.88, accuracy = 0.60\n",
      "Epoch: 94, Training Loss: 2.51, Validation Loss: 2.58, accuracy = 0.60\n",
      "Epoch: 95, Training Loss: 1.08, Validation Loss: 1.98, accuracy = 0.60\n",
      "Epoch: 96, Training Loss: 1.03, Validation Loss: 1.57, accuracy = 0.70\n",
      "Epoch: 97, Training Loss: 0.59, Validation Loss: 1.24, accuracy = 0.70\n",
      "Epoch: 98, Training Loss: 0.53, Validation Loss: 1.04, accuracy = 0.50\n",
      "Epoch: 99, Training Loss: 0.56, Validation Loss: 1.01, accuracy = 0.50\n"
     ]
    }
   ],
   "source": [
    "train(simplenet, optimizer, loss, train_data_loader, val_data_loader, epochs=100, device=device)"
   ]
  },
  {
   "cell_type": "markdown",
   "id": "4565f810-748f-478d-bb9e-c07b13a30b6d",
   "metadata": {},
   "source": [
    "## Make prediction "
   ]
  },
  {
   "cell_type": "code",
   "execution_count": 17,
   "id": "f21928f9-ae2a-40fd-a324-a3aef4beb40c",
   "metadata": {},
   "outputs": [
    {
     "name": "stdout",
     "output_type": "stream",
     "text": [
      "cat\n"
     ]
    }
   ],
   "source": [
    "from PIL import Image\n",
    "labels = ['cat', 'dog']\n",
    "img = Image.open('./cat-dog-data/test/cat/16.jpg')\n",
    "img = transforms(img)\n",
    "img = img.unsqueeze(0) # [batch,3,64,64]\n",
    "img = img.to(device)\n",
    "simplenet.to(device)\n",
    "prediction = simplenet(img)\n",
    "prediction = prediction.argmax()\n",
    "print(labels[prediction])"
   ]
  },
  {
   "cell_type": "markdown",
   "id": "df712b00-2187-4f93-86e1-7e3f4f2f7da9",
   "metadata": {},
   "source": [
    "## Saving both model and parameters"
   ]
  },
  {
   "cell_type": "code",
   "execution_count": 18,
   "id": "66611baf-82f4-43b5-ba85-5751570c49ae",
   "metadata": {},
   "outputs": [
    {
     "ename": "RuntimeError",
     "evalue": "Parent directory tmp does not exist.",
     "output_type": "error",
     "traceback": [
      "\u001b[1;31m---------------------------------------------------------------------------\u001b[0m",
      "\u001b[1;31mRuntimeError\u001b[0m                              Traceback (most recent call last)",
      "Cell \u001b[1;32mIn[18], line 1\u001b[0m\n\u001b[1;32m----> 1\u001b[0m \u001b[43mtorch\u001b[49m\u001b[38;5;241;43m.\u001b[39;49m\u001b[43msave\u001b[49m\u001b[43m(\u001b[49m\u001b[43msimplenet\u001b[49m\u001b[43m,\u001b[49m\u001b[43m \u001b[49m\u001b[38;5;124;43m\"\u001b[39;49m\u001b[38;5;124;43mtmp/simplenet\u001b[39;49m\u001b[38;5;124;43m\"\u001b[39;49m\u001b[43m)\u001b[49m\n",
      "File \u001b[1;32m~\\anaconda3\\envs\\python310\\lib\\site-packages\\torch\\serialization.py:627\u001b[0m, in \u001b[0;36msave\u001b[1;34m(obj, f, pickle_module, pickle_protocol, _use_new_zipfile_serialization, _disable_byteorder_record)\u001b[0m\n\u001b[0;32m    624\u001b[0m _check_save_filelike(f)\n\u001b[0;32m    626\u001b[0m \u001b[38;5;28;01mif\u001b[39;00m _use_new_zipfile_serialization:\n\u001b[1;32m--> 627\u001b[0m     \u001b[38;5;28;01mwith\u001b[39;00m \u001b[43m_open_zipfile_writer\u001b[49m\u001b[43m(\u001b[49m\u001b[43mf\u001b[49m\u001b[43m)\u001b[49m \u001b[38;5;28;01mas\u001b[39;00m opened_zipfile:\n\u001b[0;32m    628\u001b[0m         _save(obj, opened_zipfile, pickle_module, pickle_protocol, _disable_byteorder_record)\n\u001b[0;32m    629\u001b[0m         \u001b[38;5;28;01mreturn\u001b[39;00m\n",
      "File \u001b[1;32m~\\anaconda3\\envs\\python310\\lib\\site-packages\\torch\\serialization.py:501\u001b[0m, in \u001b[0;36m_open_zipfile_writer\u001b[1;34m(name_or_buffer)\u001b[0m\n\u001b[0;32m    499\u001b[0m \u001b[38;5;28;01melse\u001b[39;00m:\n\u001b[0;32m    500\u001b[0m     container \u001b[38;5;241m=\u001b[39m _open_zipfile_writer_buffer\n\u001b[1;32m--> 501\u001b[0m \u001b[38;5;28;01mreturn\u001b[39;00m \u001b[43mcontainer\u001b[49m\u001b[43m(\u001b[49m\u001b[43mname_or_buffer\u001b[49m\u001b[43m)\u001b[49m\n",
      "File \u001b[1;32m~\\anaconda3\\envs\\python310\\lib\\site-packages\\torch\\serialization.py:472\u001b[0m, in \u001b[0;36m_open_zipfile_writer_file.__init__\u001b[1;34m(self, name)\u001b[0m\n\u001b[0;32m    470\u001b[0m     \u001b[38;5;28msuper\u001b[39m()\u001b[38;5;241m.\u001b[39m\u001b[38;5;21m__init__\u001b[39m(torch\u001b[38;5;241m.\u001b[39m_C\u001b[38;5;241m.\u001b[39mPyTorchFileWriter(\u001b[38;5;28mself\u001b[39m\u001b[38;5;241m.\u001b[39mfile_stream))\n\u001b[0;32m    471\u001b[0m \u001b[38;5;28;01melse\u001b[39;00m:\n\u001b[1;32m--> 472\u001b[0m     \u001b[38;5;28msuper\u001b[39m()\u001b[38;5;241m.\u001b[39m\u001b[38;5;21m__init__\u001b[39m(\u001b[43mtorch\u001b[49m\u001b[38;5;241;43m.\u001b[39;49m\u001b[43m_C\u001b[49m\u001b[38;5;241;43m.\u001b[39;49m\u001b[43mPyTorchFileWriter\u001b[49m\u001b[43m(\u001b[49m\u001b[38;5;28;43mself\u001b[39;49m\u001b[38;5;241;43m.\u001b[39;49m\u001b[43mname\u001b[49m\u001b[43m)\u001b[49m)\n",
      "\u001b[1;31mRuntimeError\u001b[0m: Parent directory tmp does not exist."
     ]
    }
   ],
   "source": [
    "torch.save(simplenet, \"tmp/simplenet\")"
   ]
  },
  {
   "cell_type": "code",
   "execution_count": 31,
   "id": "e8aef5db-6cb2-4a8a-a383-0d8c24579ec2",
   "metadata": {},
   "outputs": [],
   "source": [
    "simplenet1 = torch.load(\"tmp/simplenet\", weights_only=False)"
   ]
  },
  {
   "cell_type": "markdown",
   "id": "0ff1976e-fd3d-428e-a410-8d9d2b243d0d",
   "metadata": {},
   "source": [
    "## Saving only parameters"
   ]
  },
  {
   "cell_type": "code",
   "execution_count": 33,
   "id": "3484348c-4d32-4626-8f8b-9a8fbc99aefc",
   "metadata": {},
   "outputs": [],
   "source": [
    "torch.save(simplenet.state_dict(), \"tmp/simplenet2\")"
   ]
  },
  {
   "cell_type": "code",
   "execution_count": 36,
   "id": "adbf24c4-db19-4ecf-840a-ea252341b351",
   "metadata": {},
   "outputs": [
    {
     "data": {
      "text/plain": [
       "<All keys matched successfully>"
      ]
     },
     "execution_count": 36,
     "metadata": {},
     "output_type": "execute_result"
    }
   ],
   "source": [
    "simplenet2 = SimpleNet()\n",
    "simplenet2_state_dict = torch.load(\"tmp/simplenet2\")\n",
    "simplenet2.load_state_dict(simplenet2_state_dict)\n"
   ]
  },
  {
   "cell_type": "markdown",
   "id": "fe6ff64c-04e8-48ff-9edf-63dbf2a6ef6e",
   "metadata": {},
   "source": [
    "#### If model is modified, doesn't raise errors if there is one or two missing layers"
   ]
  },
  {
   "cell_type": "code",
   "execution_count": 38,
   "id": "7819aa6a-55b0-46dd-9ad8-c848cab0da92",
   "metadata": {},
   "outputs": [
    {
     "data": {
      "text/plain": [
       "<All keys matched successfully>"
      ]
     },
     "execution_count": 38,
     "metadata": {},
     "output_type": "execute_result"
    }
   ],
   "source": [
    "simplenet2.load_state_dict(simplenet2_state_dict, strict=False)"
   ]
  },
  {
   "cell_type": "code",
   "execution_count": null,
   "id": "54e1f4f8-f036-4595-9d32-e5b2ded7a4b9",
   "metadata": {},
   "outputs": [],
   "source": []
  }
 ],
 "metadata": {
  "kernelspec": {
   "display_name": "Python 3 (ipykernel)",
   "language": "python",
   "name": "python3"
  },
  "language_info": {
   "codemirror_mode": {
    "name": "ipython",
    "version": 3
   },
   "file_extension": ".py",
   "mimetype": "text/x-python",
   "name": "python",
   "nbconvert_exporter": "python",
   "pygments_lexer": "ipython3",
   "version": "3.10.16"
  }
 },
 "nbformat": 4,
 "nbformat_minor": 5
}
